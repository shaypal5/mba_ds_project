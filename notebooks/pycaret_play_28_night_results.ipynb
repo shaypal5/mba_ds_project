{
 "cells": [
  {
   "cell_type": "markdown",
   "id": "b167a0f0",
   "metadata": {},
   "source": [
    "# Preprocessing for sales recommendations"
   ]
  },
  {
   "cell_type": "markdown",
   "id": "96b0f4cc",
   "metadata": {},
   "source": [
    "## Loading the data"
   ]
  },
  {
   "cell_type": "code",
   "execution_count": null,
   "id": "ee802080",
   "metadata": {},
   "outputs": [],
   "source": [
    "import numpy as np\n",
    "from mba.data import (\n",
    "    get_ffp_train_df,\n",
    "    get_ffp_rollout_df,\n",
    "    get_reviews_train_df_fpath,\n",
    "    get_reviews_rollout_df_fpath,\n",
    ")"
   ]
  },
  {
   "cell_type": "code",
   "execution_count": null,
   "id": "ce735011",
   "metadata": {},
   "outputs": [],
   "source": [
    "raw_tdf = get_ffp_train_df()"
   ]
  },
  {
   "cell_type": "code",
   "execution_count": null,
   "id": "68aee65e",
   "metadata": {},
   "outputs": [],
   "source": [
    "raw_tdf"
   ]
  },
  {
   "cell_type": "markdown",
   "id": "6f5d697d",
   "metadata": {},
   "source": [
    "## Building the pipeline"
   ]
  },
  {
   "cell_type": "code",
   "execution_count": null,
   "id": "345ea3a3",
   "metadata": {},
   "outputs": [],
   "source": [
    "from mba.shared import (\n",
    "    Column,\n",
    "    NUMERIC_COLUMNS,\n",
    "    CATEGORICAL_COLUMNS,\n",
    "    ORDINAL_COLUMNS,\n",
    "    FeatureGroup,\n",
    "    FEATURE_GROUPS,\n",
    "    ContextKey,\n",
    ")\n",
    "from mba.pipeline import build_pipeline"
   ]
  },
  {
   "cell_type": "code",
   "execution_count": null,
   "id": "64ebc6d0",
   "metadata": {},
   "outputs": [],
   "source": [
    "pline = build_pipeline()"
   ]
  },
  {
   "cell_type": "code",
   "execution_count": null,
   "id": "18145f3f",
   "metadata": {},
   "outputs": [],
   "source": [
    "pline"
   ]
  },
  {
   "cell_type": "code",
   "execution_count": null,
   "id": "0fc9fbc0",
   "metadata": {},
   "outputs": [],
   "source": [
    "tdf = pline.fit_transform(\n",
    "    X=raw_tdf,\n",
    "    verbose=True,\n",
    "    context={\n",
    "        ContextKey.REVIEWS_FPATH: get_reviews_train_df_fpath(),\n",
    "    },\n",
    ")"
   ]
  },
  {
   "cell_type": "code",
   "execution_count": null,
   "id": "fc45aad4",
   "metadata": {},
   "outputs": [],
   "source": [
    "tdf"
   ]
  },
  {
   "cell_type": "markdown",
   "id": "04e49f99",
   "metadata": {},
   "source": [
    "## Play with pycaret"
   ]
  },
  {
   "cell_type": "code",
   "execution_count": null,
   "id": "013916e7",
   "metadata": {},
   "outputs": [],
   "source": [
    "from pycaret.classification import (\n",
    "    setup,\n",
    "    compare_models,\n",
    "    create_model,\n",
    "    tune_model,\n",
    "    blend_models,\n",
    "    predict_model,\n",
    "    finalize_model,\n",
    "    save_model,\n",
    "    load_model,\n",
    "    get_metrics,\n",
    "    add_metric,\n",
    ")\n",
    "from sklearn.metrics import (\n",
    "    accuracy_score, roc_auc_score, recall_score, precision_score, f1_score,\n",
    "    confusion_matrix,\n",
    ")"
   ]
  },
  {
   "cell_type": "code",
   "execution_count": null,
   "id": "f86bfd4a",
   "metadata": {},
   "outputs": [],
   "source": [
    "from imblearn.over_sampling import RandomOverSampler, SMOTENC"
   ]
  },
  {
   "cell_type": "code",
   "execution_count": null,
   "id": "f48fe2d4",
   "metadata": {
    "scrolled": false
   },
   "outputs": [],
   "source": [
    "clf_handle = setup(\n",
    "    data = tdf,\n",
    "    target = Column.BUYER_FLAG,\n",
    "    train_size=0.8,\n",
    "    session_id=42,\n",
    "    numeric_features=NUMERIC_COLUMNS,\n",
    "    categorical_features=CATEGORICAL_COLUMNS,\n",
    "    group_features=[FEATURE_GROUPS[k] for k in FEATURE_GROUPS],\n",
    "    group_names=[k for k in FEATURE_GROUPS],\n",
    "    normalize=True,\n",
    "    remove_perfect_collinearity=True,\n",
    "    data_split_stratify=True,\n",
    "    silent=True,\n",
    "    fix_imbalance=True,\n",
    "    fix_imbalance_method=SMOTENC(\n",
    "        categorical_features=CATEGORICAL_COLUMNS,\n",
    "    ),\n",
    ") "
   ]
  },
  {
   "cell_type": "code",
   "execution_count": null,
   "id": "2e6637d1",
   "metadata": {},
   "outputs": [],
   "source": [
    "TP_REVENUE = 32.7\n",
    "FP_REVENUE = -6.05\n",
    "FN_COST = -32.7\n",
    "\n",
    "\n",
    "def p_count(y_true, y_pred):\n",
    "    return sum(y_true==1)\n",
    "\n",
    "def n_count(y_true, y_pred):\n",
    "    return sum(np.where((y_true==0), 1, 0))\n",
    "\n",
    "def tp(y_true, y_pred):\n",
    "    return sum(np.where((y_pred==1) & (y_true==1), 1, 0))\n",
    "\n",
    "def fp(y_true, y_pred):\n",
    "    return sum(np.where((y_pred==1) & (y_true==0), 1, 0))\n",
    "\n",
    "def tn(y_true, y_pred):\n",
    "    return sum(np.where((y_pred==0) & (y_true==0), 1, 0))\n",
    "\n",
    "def fn(y_true, y_pred):\n",
    "    return sum(np.where((y_pred==0) & (y_true==1), 1, 0))\n",
    "\n",
    "def revenue_score(y_true, y_pred):\n",
    "    tp_count = tp(y_true, y_pred)\n",
    "    fp_count = fp(y_true, y_pred)\n",
    "    return tp_count * TP_REVENUE + fp_count * FP_REVENUE\n",
    "\n",
    "def opportunity_cost(y_true, y_pred):\n",
    "    tp_count = tp(y_true, y_pred)\n",
    "    fp_count = fp(y_true, y_pred)\n",
    "    fn_count = fn(y_true, y_pred)\n",
    "    return tp_count * TP_REVENUE + fp_count * FP_REVENUE + fn_count * FN_COST"
   ]
  },
  {
   "cell_type": "code",
   "execution_count": null,
   "id": "e97ba220",
   "metadata": {},
   "outputs": [],
   "source": [
    "add_metric(\n",
    "    id='p_count',\n",
    "    name='P',\n",
    "    score_func=p_count,\n",
    "    target='pred',\n",
    "    greater_is_better=True,\n",
    "    multiclass=False,\n",
    ")\n",
    "add_metric(\n",
    "    id='n_count',\n",
    "    name='N',\n",
    "    score_func=n_count,\n",
    "    target='pred',\n",
    "    greater_is_better=True,\n",
    "    multiclass=False,\n",
    ")\n",
    "add_metric(\n",
    "    id='revenue_score',\n",
    "    name='Total Revenue',\n",
    "    score_func=revenue_score,\n",
    "    target='pred',\n",
    "    greater_is_better=True,\n",
    "    multiclass=False,\n",
    ")\n",
    "add_metric(\n",
    "    id='opportunity_cost',\n",
    "    name='Opportunity Cost',\n",
    "    score_func=opportunity_cost,\n",
    "    target='pred',\n",
    "    greater_is_better=True,\n",
    "    multiclass=False,\n",
    ")\n",
    "add_metric(\n",
    "    id='tp',\n",
    "    name='TP',\n",
    "    score_func=tp,\n",
    "    target='pred',\n",
    "    greater_is_better=True,\n",
    "    multiclass=False,\n",
    ")\n",
    "add_metric(\n",
    "    id='fp',\n",
    "    name='FP',\n",
    "    score_func=fp,\n",
    "    target='pred',\n",
    "    greater_is_better=False,\n",
    "    multiclass=False,\n",
    ")\n",
    "add_metric(\n",
    "    id='tn',\n",
    "    name='TN',\n",
    "    score_func=tn,\n",
    "    target='pred',\n",
    "    greater_is_better=True,\n",
    "    multiclass=False,\n",
    ")\n",
    "add_metric(\n",
    "    id='fn',\n",
    "    name='FN',\n",
    "    score_func=fn,\n",
    "    target='pred',\n",
    "    greater_is_better=False,\n",
    "    multiclass=False,\n",
    ")"
   ]
  },
  {
   "cell_type": "code",
   "execution_count": null,
   "id": "d4858554",
   "metadata": {},
   "outputs": [],
   "source": [
    "top3 = compare_models(n_select=3, sort='revenue_score')"
   ]
  },
  {
   "cell_type": "code",
   "execution_count": null,
   "id": "33bd4adf",
   "metadata": {},
   "outputs": [],
   "source": [
    "def _sanity_check_all_ones_revenue(P, N):\n",
    "    return P * TP_REVENUE + N * FP_REVENUE"
   ]
  },
  {
   "cell_type": "code",
   "execution_count": null,
   "id": "7171266e",
   "metadata": {},
   "outputs": [],
   "source": [
    "_sanity_check_all_ones_revenue(P = 136 + 157, N=268+2639)"
   ]
  },
  {
   "cell_type": "code",
   "execution_count": null,
   "id": "eb05cf10",
   "metadata": {},
   "outputs": [],
   "source": [
    "gbc = create_model('gbc')"
   ]
  },
  {
   "cell_type": "code",
   "execution_count": null,
   "id": "634506d5",
   "metadata": {},
   "outputs": [],
   "source": [
    "gbc_res = predict_model(gbc)"
   ]
  },
  {
   "cell_type": "code",
   "execution_count": null,
   "id": "2d65375b",
   "metadata": {},
   "outputs": [],
   "source": [
    "sktuned_gbc = tune_model(\n",
    "    gbc,\n",
    "    fold=8,\n",
    "    n_iter=10,\n",
    "    optimize='revenue_score',\n",
    ")"
   ]
  },
  {
   "cell_type": "code",
   "execution_count": null,
   "id": "1c733533",
   "metadata": {},
   "outputs": [],
   "source": [
    "sktuned_gbc"
   ]
  },
  {
   "cell_type": "code",
   "execution_count": null,
   "id": "28cd7363",
   "metadata": {},
   "outputs": [],
   "source": [
    "sktuned_gbc_res = predict_model(sktuned_gbc)"
   ]
  },
  {
   "cell_type": "markdown",
   "id": "1a60a870",
   "metadata": {},
   "source": [
    "## AdaBoost"
   ]
  },
  {
   "cell_type": "code",
   "execution_count": null,
   "id": "81c4066b",
   "metadata": {},
   "outputs": [],
   "source": [
    "ada = create_model('ada')"
   ]
  },
  {
   "cell_type": "code",
   "execution_count": null,
   "id": "46f18e51",
   "metadata": {},
   "outputs": [],
   "source": [
    "ada_res = predict_model(ada)"
   ]
  },
  {
   "cell_type": "code",
   "execution_count": null,
   "id": "880a1073",
   "metadata": {},
   "outputs": [],
   "source": [
    "sktuned_ada = tune_model(\n",
    "    ada,\n",
    "    fold=10,\n",
    "    n_iter=15,\n",
    "    optimize='revenue_score',\n",
    ")"
   ]
  },
  {
   "cell_type": "code",
   "execution_count": null,
   "id": "c1af5c20",
   "metadata": {},
   "outputs": [],
   "source": [
    "sktuned_ada"
   ]
  },
  {
   "cell_type": "code",
   "execution_count": null,
   "id": "d6387a17",
   "metadata": {},
   "outputs": [],
   "source": [
    "sktuned_ada_res = predict_model(sktuned_ada)"
   ]
  },
  {
   "cell_type": "markdown",
   "id": "4d8e1098",
   "metadata": {},
   "source": [
    "## LGBM"
   ]
  },
  {
   "cell_type": "code",
   "execution_count": null,
   "id": "7a160a37",
   "metadata": {},
   "outputs": [],
   "source": [
    "lgbm = create_model('lightgbm')"
   ]
  },
  {
   "cell_type": "code",
   "execution_count": null,
   "id": "87b18c44",
   "metadata": {},
   "outputs": [],
   "source": [
    "lgbm_res = predict_model(lgbm)"
   ]
  },
  {
   "cell_type": "code",
   "execution_count": null,
   "id": "db62f72e",
   "metadata": {},
   "outputs": [],
   "source": [
    "sktuned_lgbm = tune_model(\n",
    "    lgbm,\n",
    "    fold=10,\n",
    "    n_iter=10,\n",
    "    optimize='revenue_score',\n",
    ")"
   ]
  },
  {
   "cell_type": "code",
   "execution_count": null,
   "id": "df2609d9",
   "metadata": {},
   "outputs": [],
   "source": [
    "sktuned_lgbm_res = predict_model(sktuned_lgbm)"
   ]
  },
  {
   "cell_type": "markdown",
   "id": "44e32533",
   "metadata": {},
   "source": [
    "## ET"
   ]
  },
  {
   "cell_type": "code",
   "execution_count": null,
   "id": "325e127c",
   "metadata": {},
   "outputs": [],
   "source": [
    "et = create_model('et')"
   ]
  },
  {
   "cell_type": "code",
   "execution_count": null,
   "id": "39cefe74",
   "metadata": {},
   "outputs": [],
   "source": [
    "et_res = predict_model(et)"
   ]
  },
  {
   "cell_type": "code",
   "execution_count": null,
   "id": "74c8a30d",
   "metadata": {},
   "outputs": [],
   "source": [
    "sktuned_et = tune_model(\n",
    "    et,\n",
    "    fold=10,\n",
    "    n_iter=10,\n",
    "    optimize='revenue_score',\n",
    ")"
   ]
  },
  {
   "cell_type": "code",
   "execution_count": null,
   "id": "7f9bc9ba",
   "metadata": {},
   "outputs": [],
   "source": [
    "sktuned_et_res = predict_model(sktuned_et)"
   ]
  },
  {
   "cell_type": "markdown",
   "id": "aa89b8b6",
   "metadata": {},
   "source": [
    "## Blending models"
   ]
  },
  {
   "cell_type": "code",
   "execution_count": null,
   "id": "d4d6bccf",
   "metadata": {},
   "outputs": [],
   "source": [
    "blender_top3 = blend_models(top3)"
   ]
  },
  {
   "cell_type": "code",
   "execution_count": null,
   "id": "de2ef378",
   "metadata": {},
   "outputs": [],
   "source": [
    "blender_res = predict_model(blender_top3)"
   ]
  },
  {
   "cell_type": "code",
   "execution_count": null,
   "id": "db56008a",
   "metadata": {},
   "outputs": [],
   "source": [
    "blender_res"
   ]
  },
  {
   "cell_type": "code",
   "execution_count": null,
   "id": "2999fa80",
   "metadata": {},
   "outputs": [],
   "source": [
    "sktuned_m0 = tune_model(\n",
    "    top3[0],\n",
    "    fold=8,\n",
    "    n_iter=10,\n",
    "    optimize='revenue_score',\n",
    ")"
   ]
  },
  {
   "cell_type": "code",
   "execution_count": null,
   "id": "8480bed4",
   "metadata": {},
   "outputs": [],
   "source": []
  },
  {
   "cell_type": "code",
   "execution_count": null,
   "id": "321d77d2",
   "metadata": {},
   "outputs": [],
   "source": [
    "tuned_gbc = tune_model(\n",
    "    gbc,\n",
    "    fold=8,\n",
    "    n_iter=10,\n",
    "    optimize='revenue_score',\n",
    "    search_library='optuna',\n",
    "    early_stopping='Hyperband',\n",
    ")"
   ]
  },
  {
   "cell_type": "code",
   "execution_count": null,
   "id": "739bf36f",
   "metadata": {},
   "outputs": [],
   "source": [
    "tuned_gbc"
   ]
  },
  {
   "cell_type": "code",
   "execution_count": null,
   "id": "414cd0cd",
   "metadata": {},
   "outputs": [],
   "source": [
    "tuned_gbc_res = predict_model(tuned_gbc)"
   ]
  },
  {
   "cell_type": "code",
   "execution_count": null,
   "id": "1f6573f7",
   "metadata": {},
   "outputs": [],
   "source": []
  }
 ],
 "metadata": {
  "kernelspec": {
   "display_name": "mba",
   "language": "python",
   "name": "mba"
  },
  "language_info": {
   "codemirror_mode": {
    "name": "ipython",
    "version": 3
   },
   "file_extension": ".py",
   "mimetype": "text/x-python",
   "name": "python",
   "nbconvert_exporter": "python",
   "pygments_lexer": "ipython3",
   "version": "3.8.9"
  }
 },
 "nbformat": 4,
 "nbformat_minor": 5
}
