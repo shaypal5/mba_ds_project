{
 "cells": [
  {
   "cell_type": "code",
   "execution_count": null,
   "id": "89ce2784",
   "metadata": {},
   "outputs": [],
   "source": [
    "from mba.sentiment import get_sentiment_predictor, train_sentiment_model_and_save_to_disk"
   ]
  },
  {
   "cell_type": "code",
   "execution_count": null,
   "id": "2cb3f724",
   "metadata": {
    "scrolled": false
   },
   "outputs": [],
   "source": [
    "train_sentiment_model_and_save_to_disk()"
   ]
  },
  {
   "cell_type": "code",
   "execution_count": null,
   "id": "127f440e",
   "metadata": {},
   "outputs": [],
   "source": [
    "sp = get_sentiment_predictor()"
   ]
  },
  {
   "cell_type": "code",
   "execution_count": null,
   "id": "3cf714e8",
   "metadata": {},
   "outputs": [],
   "source": [
    "sp"
   ]
  },
  {
   "cell_type": "code",
   "execution_count": null,
   "id": "c79ef0cb",
   "metadata": {},
   "outputs": [],
   "source": [
    "import pandas as pd"
   ]
  },
  {
   "cell_type": "code",
   "execution_count": null,
   "id": "12902223",
   "metadata": {},
   "outputs": [],
   "source": [
    "df = pd.read_csv('/Users/shaypalachy/clones/mba/data/reviews_training.csv')"
   ]
  },
  {
   "cell_type": "code",
   "execution_count": null,
   "id": "4f7801b1",
   "metadata": {},
   "outputs": [],
   "source": [
    "df"
   ]
  },
  {
   "cell_type": "code",
   "execution_count": null,
   "id": "2691baea",
   "metadata": {},
   "outputs": [],
   "source": [
    "df['sentiment'] = sp.predict(df)"
   ]
  },
  {
   "cell_type": "code",
   "execution_count": null,
   "id": "327c61fc",
   "metadata": {},
   "outputs": [],
   "source": [
    "df"
   ]
  },
  {
   "cell_type": "code",
   "execution_count": null,
   "id": "51852c1e",
   "metadata": {},
   "outputs": [],
   "source": [
    "subdf = df[['ID', 'sentiment']]\n",
    "subdf"
   ]
  },
  {
   "cell_type": "code",
   "execution_count": null,
   "id": "0124be53",
   "metadata": {},
   "outputs": [],
   "source": [
    "dumm = pd.get_dummies(subdf['sentiment'])\n",
    "dumm.head()"
   ]
  },
  {
   "cell_type": "code",
   "execution_count": null,
   "id": "8fdf0232",
   "metadata": {},
   "outputs": [],
   "source": [
    "subdf['sentiment_0'] = dumm[0]\n",
    "subdf['sentiment_1'] = dumm[1]"
   ]
  },
  {
   "cell_type": "code",
   "execution_count": null,
   "id": "d9363d5f",
   "metadata": {},
   "outputs": [],
   "source": [
    "subdf.head()"
   ]
  },
  {
   "cell_type": "code",
   "execution_count": null,
   "id": "5bb1c5a2",
   "metadata": {},
   "outputs": [],
   "source": [
    "subdf = subdf.set_index('ID')\n",
    "subdf"
   ]
  },
  {
   "cell_type": "code",
   "execution_count": null,
   "id": "3db37865",
   "metadata": {},
   "outputs": [],
   "source": [
    "subdf = subdf.drop('sentiment', axis=1)\n",
    "subdf"
   ]
  },
  {
   "cell_type": "code",
   "execution_count": null,
   "id": "1c71c54d",
   "metadata": {},
   "outputs": [],
   "source": [
    "tdf = pd.read_csv('/Users/shaypalachy/clones/mba/data/ffp_train.csv')"
   ]
  },
  {
   "cell_type": "code",
   "execution_count": null,
   "id": "3ef8be6f",
   "metadata": {},
   "outputs": [],
   "source": [
    "tdf"
   ]
  },
  {
   "cell_type": "code",
   "execution_count": null,
   "id": "0736a40a",
   "metadata": {},
   "outputs": [],
   "source": [
    "tdf = tdf.set_index('ID')\n",
    "tdf.head()"
   ]
  },
  {
   "cell_type": "code",
   "execution_count": null,
   "id": "0d3a03d0",
   "metadata": {},
   "outputs": [],
   "source": [
    "jdf = tdf.join(subdf)\n",
    "jdf.head()"
   ]
  },
  {
   "cell_type": "code",
   "execution_count": null,
   "id": "6f695bde",
   "metadata": {},
   "outputs": [],
   "source": [
    "jdf['sentiment_0'].fillna(0)"
   ]
  },
  {
   "cell_type": "code",
   "execution_count": null,
   "id": "b52df9d4",
   "metadata": {},
   "outputs": [],
   "source": [
    "jdf['sentiment_0'].isna().sum()"
   ]
  },
  {
   "cell_type": "code",
   "execution_count": null,
   "id": "6a58295a",
   "metadata": {},
   "outputs": [],
   "source": [
    "jdf = jdf.fillna(0)"
   ]
  },
  {
   "cell_type": "code",
   "execution_count": null,
   "id": "5a9ba3c5",
   "metadata": {},
   "outputs": [],
   "source": [
    "jdf.head()"
   ]
  },
  {
   "cell_type": "code",
   "execution_count": null,
   "id": "8b47b58a",
   "metadata": {},
   "outputs": [],
   "source": [
    "jdf.isna().sum()"
   ]
  },
  {
   "cell_type": "code",
   "execution_count": null,
   "id": "ae48b695",
   "metadata": {},
   "outputs": [],
   "source": []
  }
 ],
 "metadata": {
  "kernelspec": {
   "display_name": "mba",
   "language": "python",
   "name": "mba"
  },
  "language_info": {
   "codemirror_mode": {
    "name": "ipython",
    "version": 3
   },
   "file_extension": ".py",
   "mimetype": "text/x-python",
   "name": "python",
   "nbconvert_exporter": "python",
   "pygments_lexer": "ipython3",
   "version": "3.8.9"
  }
 },
 "nbformat": 4,
 "nbformat_minor": 5
}
